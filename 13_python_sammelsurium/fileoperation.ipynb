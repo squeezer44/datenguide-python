{
  "nbformat": 4,
  "nbformat_minor": 0,
  "metadata": {
    "colab": {
      "name": "fileoperation.ipynb",
      "provenance": [],
      "authorship_tag": "ABX9TyNUi8vY5V+VWygqT9OsRM1o",
      "include_colab_link": true
    },
    "kernelspec": {
      "name": "python3",
      "display_name": "Python 3"
    }
  },
  "cells": [
    {
      "cell_type": "markdown",
      "metadata": {
        "id": "view-in-github",
        "colab_type": "text"
      },
      "source": [
        "<a href=\"https://colab.research.google.com/github/squeezer44/datenguide-python/blob/master/13_python_sammelsurium/fileoperation.ipynb\" target=\"_parent\"><img src=\"https://colab.research.google.com/assets/colab-badge.svg\" alt=\"Open In Colab\"/></a>"
      ]
    },
    {
      "cell_type": "markdown",
      "metadata": {
        "id": "KeV2j2_orgIE",
        "colab_type": "text"
      },
      "source": [
        "# I/O operations with files"
      ]
    },
    {
      "cell_type": "markdown",
      "metadata": {
        "id": "Fvk_ubOlsARh",
        "colab_type": "text"
      },
      "source": [
        "## Filemodes\n",
        "\n",
        "Mode: Description  \n",
        "- 'r': Open a file for reading. (default)\n",
        "- 'w': Open a file for writing. Creates a new file if it does not exist or truncates the file if it exists.\n",
        "- 'x': Open a file for exclusive creation. If the file already exists, the operation fails.\n",
        "- 'a': Open for appending at the end of the file without truncating it. Creates a new file if it does not exist.\n",
        "- 't': Open in text mode. (default)\n",
        "- 'b': Open in binary mode.\n",
        "- '+': Open a file for updating (reading and writing)\n",
        "\n",
        "\n",
        "### Example snippet in text mode\n",
        "\n",
        "```\n",
        "f = open(\"test.txt\",mode = 'r',encoding = 'utf-8')\n",
        "f = open(\"test.txt\",'w')  # write in text mode\n",
        "```\n",
        "\n",
        "\n",
        "### Example snippet in binary mode\n",
        "\n",
        "```\n",
        "f = open(\"img.bmp\",'r+b') # read and write in binary mode\n",
        "```\n",
        "\n",
        "\n",
        "\n"
      ]
    },
    {
      "cell_type": "markdown",
      "metadata": {
        "id": "1Y4NC80AwAs0",
        "colab_type": "text"
      },
      "source": [
        "## Read a file"
      ]
    },
    {
      "cell_type": "markdown",
      "metadata": {
        "id": "GqARI-vVwAUe",
        "colab_type": "text"
      },
      "source": [
        "\n",
        "\n",
        "```\n",
        "f = open(\"test.txt\",'r',encoding = 'utf-8')\n",
        "f.read(4)    # read the first 4 data\n",
        "```\n",
        "'This'\n",
        "\n",
        "```\n",
        "f.read(4)    # read the next 4 data\n",
        "```\n",
        "' is '\n",
        "\n",
        "```\n",
        "f.read()     # read in the rest till end of file\n",
        "```\n",
        "'my first file\\nThis file\\ncontains three lines\\n'\n",
        "\n"
      ]
    },
    {
      "cell_type": "markdown",
      "metadata": {
        "id": "VLpKxMUyyz3_",
        "colab_type": "text"
      },
      "source": [
        "\n",
        "\n",
        "```\n",
        "f.tell()    # get the current file position\n",
        "```\n",
        "56\n",
        "\n",
        "```\n",
        "f.seek(0)   # bring file cursor to initial position\n",
        "```\n",
        "0\n",
        "\n",
        "```\n",
        "print(f.read())  # read the entire file\n",
        "```\n",
        "This is my first file\n",
        "This file\n",
        "contains three lines"
      ]
    },
    {
      "cell_type": "markdown",
      "metadata": {
        "id": "s0W-3rv-xXhE",
        "colab_type": "text"
      },
      "source": [
        "## Write a file"
      ]
    },
    {
      "cell_type": "markdown",
      "metadata": {
        "id": "3bxlnz50xdbC",
        "colab_type": "text"
      },
      "source": [
        "```\n",
        "with open(\"test.txt\",'w',encoding = 'utf-8') as f:\n",
        "   f.write(\"my first file\\n\")\n",
        "   f.write(\"This file\\n\\n\")\n",
        "   f.write(\"contains three lines\\n\")\n",
        "```"
      ]
    }
  ]
}